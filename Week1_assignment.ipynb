{
  "nbformat": 4,
  "nbformat_minor": 0,
  "metadata": {
    "colab": {
      "name": "Introduction to data science",
      "provenance": [],
      "collapsed_sections": []
    },
    "kernelspec": {
      "name": "python3",
      "display_name": "Python 3"
    },
    "language_info": {
      "name": "python"
    }
  },
  "cells": [
    {
      "cell_type": "markdown",
      "metadata": {
        "id": "t_GReUrYvF4r"
      },
      "source": [
        "**Part A**\n",
        "\n",
        "Find a list of all of the names in the following string using regex."
      ]
    },
    {
      "cell_type": "code",
      "metadata": {
        "id": "yqP-djKevNfP"
      },
      "source": [
        "import re\n",
        "def names():\n",
        "    simple_string = \"\"\"Amy is 5 years old, and her sister Mary is 2 years old. \n",
        "    Ruth and Peter, their parents, have 3 kids.\"\"\"\n",
        "    \n",
        "    pattern = '[A-Z][a-z]*'\n",
        "    a = re.findall(pattern, simple_string)\n",
        "    return a"
      ],
      "execution_count": null,
      "outputs": []
    },
    {
      "cell_type": "code",
      "metadata": {
        "id": "4522-fIvvQxT"
      },
      "source": [
        "assert len(names()) == 4, \"There are four names in the simple_string\""
      ],
      "execution_count": null,
      "outputs": []
    },
    {
      "cell_type": "markdown",
      "metadata": {
        "id": "dTGb1qhhvWCc"
      },
      "source": [
        "**Part B**\n",
        "\n",
        "The dataset file in assets/grades.txt contains a line separated list of people with their grade in a class. Create a regex to generate a list of just those students who received a B in the course."
      ]
    },
    {
      "cell_type": "code",
      "metadata": {
        "colab": {
          "base_uri": "https://localhost:8080/"
        },
        "id": "oUp_nKXEpBGN",
        "outputId": "504b24dc-88ba-4618-8f16-406c40248866"
      },
      "source": [
        "import re\n",
        "def grades():\n",
        "    with open (\"grades.txt\", \"r\") as file:\n",
        "        grades = file.read()\n",
        "        pattern =\"\"\"\n",
        "        ([A-Z][a-z]*\\s[A-Z][a-z]*):\\s[B]\n",
        "        \"\"\"\n",
        "        a = re.findall(pattern, grades, re.VERBOSE)\n",
        "        return a\n",
        "print(len(grades()))"
      ],
      "execution_count": null,
      "outputs": [
        {
          "output_type": "stream",
          "text": [
            "16\n"
          ],
          "name": "stdout"
        }
      ]
    },
    {
      "cell_type": "code",
      "metadata": {
        "id": "k9LmL86OqQ6w"
      },
      "source": [
        "assert len(grades()) == 16"
      ],
      "execution_count": null,
      "outputs": []
    },
    {
      "cell_type": "markdown",
      "metadata": {
        "id": "qQ3pdE5svYkG"
      },
      "source": [
        "**Part C**\n",
        "\n",
        "Consider the standard web log file in assets/logdata.txt. This file records the access a user makes when visiting a web page (like this one!). Each line of the log has the following items:\n",
        "\n",
        "- a host (e.g., '146.204.224.152')\n",
        "- a user_name (e.g., 'feest6811' note: sometimes the user name is missing! In this case, use '-' as the value for the username.)\n",
        "- the time a request was made (e.g., '21/Jun/2019:15:45:24 -0700')\n",
        "- the post request type (e.g., 'POST /incentivize HTTP/1.1' note: not everything is a POST!)\n",
        "\n",
        "\n",
        "Your task is to convert this into a list of dictionaries, where each dictionary looks like the following:\n",
        "\n",
        "    example_dict = {\"host\":\"146.204.224.152\",\n",
        "    \"user_name\":\"feest6811\", \n",
        "    \"time\":\"21/Jun/2019:15:45:24 -0700\",\n",
        "    \"request\":\"POST /incentivize HTTP/1.1\"\n",
        "    }"
      ]
    },
    {
      "cell_type": "code",
      "metadata": {
        "colab": {
          "base_uri": "https://localhost:8080/"
        },
        "id": "814JaZA3vYWh",
        "outputId": "76ded024-03db-42d8-8186-f46351fc9917"
      },
      "source": [
        "import re\n",
        "def logs():\n",
        "    with open(\"logdata.txt\", \"r\") as file:\n",
        "        logdata = file.read()\n",
        "        pattern = \"\"\"\n",
        "        (?P<host>[0-9]*.[0-9]*.[0-9]*.[0-9]*)                                                 #host\n",
        "        \\s-\\s                                                                                 #separator\n",
        "        (?P<user_name>[-]|[a-z0-9]*)                                                          #user_name\n",
        "        \\s[[]                                                                                 #separator\n",
        "        (?P<time>[0-9]+[/][A-Za-z]+[/][0-9]+[:][0-9]+[:][0-9]+[:][0-9]+\\s-[0-9]+)             #time\n",
        "        []]\\s\"                                                                                #separator \n",
        "        (?P<request>.*)                                                                       #request\n",
        "        \"\\s\"\"\"\n",
        "\n",
        "        for a in re.finditer(pattern, logdata,  re.VERBOSE):\n",
        "          a.groupdict()\n",
        "        return a.groupdict()\n",
        "\n",
        "print(len(logs()))"
      ],
      "execution_count": null,
      "outputs": [
        {
          "output_type": "stream",
          "text": [
            "{'host': '30.95.91.251', 'user_name': 'larson8319', 'time': '21/Jun/2019:16:02:02 -0700', 'request': 'PUT /one-to-one/whiteboard HTTP/1.0'}\n"
          ],
          "name": "stdout"
        }
      ]
    },
    {
      "cell_type": "code",
      "metadata": {
        "colab": {
          "base_uri": "https://localhost:8080/"
        },
        "id": "IQmzmLzo_FII",
        "outputId": "1e4881d1-f465-4b80-aba9-3d098f1fa628"
      },
      "source": [
        "import re\n",
        "def logs():\n",
        "  with open(\"logdata.txt\", \"r\") as file:\n",
        "      logdata = file.read()\n",
        "      pattern = \"\"\"\n",
        "      (?P<host>[0-9]*.[0-9]*.[0-9]*.[0-9]*)                                                 #host\n",
        "      \\s-\\s                                                                                 #separator\n",
        "      (?P<user_name>[-]|[a-z0-9]*)                                                          #user_name\n",
        "      \\s[[]                                                                                 #separator\n",
        "      (?P<time>[0-9]+[/][A-Za-z]+[/][0-9]+[:][0-9]+[:][0-9]+[:][0-9]+\\s-[0-9]+)             #time\n",
        "      []]\\s\"                                                                                #separator \n",
        "      (?P<request>.*)                                                                       #request\n",
        "      \"\\s\"\"\"\n",
        "      \n",
        "      # print(matches)\n",
        "      # result = []\n",
        "      # item = re.findall(pattern, logdata, re.VERBOSE)\n",
        "      # result.append(item)\n",
        "      # print(result)\n",
        "\n",
        "\n",
        "\n",
        "      result = []\n",
        "      for item in re.finditer(pattern, logdata, re.VERBOSE):\n",
        "        result.append(item.groupdict())\n",
        "        print(result)\n",
        "        \n",
        "      return result\n",
        "      \n",
        "print(len(logs()))"
      ],
      "execution_count": null,
      "outputs": [
        {
          "output_type": "stream",
          "text": [
            "IOPub data rate exceeded.\n",
            "The notebook server will temporarily stop sending output\n",
            "to the client in order to avoid crashing it.\n",
            "To change this limit, set the config variable\n",
            "`--NotebookApp.iopub_data_rate_limit`.\n",
            "\n",
            "Current values:\n",
            "NotebookApp.iopub_data_rate_limit=1000000.0 (bytes/sec)\n",
            "NotebookApp.rate_limit_window=3.0 (secs)\n",
            "\n"
          ],
          "name": "stderr"
        }
      ]
    },
    {
      "cell_type": "code",
      "metadata": {
        "colab": {
          "base_uri": "https://localhost:8080/"
        },
        "id": "_xNKbtPPwMX7",
        "outputId": "3ea6e20d-4529-4c86-fb47-83d91faca995"
      },
      "source": [
        "assert len(logs()) == 979\n",
        "\n",
        "# one_item={'host': '146.204.224.152',\n",
        "#   'user_name': 'feest6811',\n",
        "#   'time': '21/Jun/2019:15:45:24 -0700',\n",
        "#   'request': 'POST /incentivize HTTP/1.1'}\n",
        "# assert one_item in logs(), \"Sorry, this item should be in the log results, check your formating\"\n"
      ],
      "execution_count": null,
      "outputs": [
        {
          "output_type": "stream",
          "text": [
            "IOPub data rate exceeded.\n",
            "The notebook server will temporarily stop sending output\n",
            "to the client in order to avoid crashing it.\n",
            "To change this limit, set the config variable\n",
            "`--NotebookApp.iopub_data_rate_limit`.\n",
            "\n",
            "Current values:\n",
            "NotebookApp.iopub_data_rate_limit=1000000.0 (bytes/sec)\n",
            "NotebookApp.rate_limit_window=3.0 (secs)\n",
            "\n"
          ],
          "name": "stderr"
        }
      ]
    }
  ]
}
